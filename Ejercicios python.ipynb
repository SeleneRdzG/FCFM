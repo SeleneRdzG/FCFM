{
 "cells": [
  {
   "cell_type": "markdown",
   "metadata": {},
   "source": [
    "Programa 1: Hola mundo"
   ]
  },
  {
   "cell_type": "code",
   "execution_count": 5,
   "metadata": {},
   "outputs": [
    {
     "name": "stdout",
     "output_type": "stream",
     "text": [
      "Hola mundo!\n"
     ]
    }
   ],
   "source": [
    "print(\"Hola mundo!\")"
   ]
  },
  {
   "cell_type": "markdown",
   "metadata": {},
   "source": [
    "## Ejercicio 1\n",
    "Realiza una variable con tu matricula y realiza una secuencia de imprimir con tu nombre y tu matricula concatenados."
   ]
  },
  {
   "cell_type": "code",
   "execution_count": 14,
   "metadata": {},
   "outputs": [
    {
     "name": "stdout",
     "output_type": "stream",
     "text": [
      "Selene Jazmín Rodriguez Gonzalez,  1834309\n",
      "Selene Jazmín Rodriguez Gonzalez,  1834309\n",
      "Selene Jazmín Rodriguez Gonzalez,  1834309\n",
      "Selene Jazmín Rodriguez Gonzalez,  1834309\n",
      "Selene Jazmín Rodriguez Gonzalez,  1834309\n"
     ]
    }
   ],
   "source": [
    "mat = 1834309\n",
    "for i in range (0, 5):\n",
    "    print (\"Selene Jazmín Rodriguez Gonzalez, \", +mat)"
   ]
  },
  {
   "cell_type": "markdown",
   "metadata": {},
   "source": [
    "## Ejercicio 2\n",
    "Pidiendo el input del usuario pide dos números y crea una pequeña calculadora con los operadores básicos de suma, resta, multiplicación, división, y exponente."
   ]
  },
  {
   "cell_type": "code",
   "execution_count": 20,
   "metadata": {},
   "outputs": [
    {
     "name": "stdout",
     "output_type": "stream",
     "text": [
      "Introduce el primer numero: 10\n",
      "Introduce el segundo numero: 5\n",
      "Suma:  15\n",
      "Resta:  5\n",
      "Multiplicacion:  50\n",
      "Division:  2.0\n",
      "Exponencial:  22026.465794806718\n"
     ]
    }
   ],
   "source": [
    "import math as m\n",
    "\n",
    "n1=int(input(\"Introduce el primer numero: \"))\n",
    "n2=int(input(\"Introduce el segundo numero: \"))\n",
    "\n",
    "suma=n1+n2\n",
    "resta=n1-n2\n",
    "mult=n1*n2\n",
    "div=n1/n2\n",
    "exp= m.exp(n1)\n",
    "\n",
    "print(\"Suma: \",+suma)\n",
    "print(\"Resta: \", +resta)\n",
    "print(\"Multiplicacion: \", +mult)\n",
    "print(\"Division: \", +div)\n",
    "print(\"Exponencial: \", +exp)"
   ]
  },
  {
   "cell_type": "markdown",
   "metadata": {},
   "source": [
    "## Ejercicio 3\n",
    "Con loop while o for, realiza una lista de 10 numeros multiplos de 3, y después realiza una función de loop que sume todos los números dentro del arreglo."
   ]
  },
  {
   "cell_type": "code",
   "execution_count": 180,
   "metadata": {},
   "outputs": [
    {
     "name": "stdout",
     "output_type": "stream",
     "text": [
      "[0, 3, 6, 9, 12, 15, 18, 21, 24, 27]\n",
      "La suma es:  135\n"
     ]
    }
   ],
   "source": [
    "l1=[]\n",
    "sum=0\n",
    "for i in range (0,30,3):\n",
    "    l1.append(i)\n",
    "print (l1)\n",
    "\n",
    "for i in l1:\n",
    "    \n",
    "    sum= sum+i\n",
    "    \n",
    "print(\"La suma es: \", sum)"
   ]
  },
  {
   "cell_type": "markdown",
   "metadata": {},
   "source": [
    "## Ejercicio 4\n",
    "Con una función de if else, revisar si un número es par o es impar.\n",
    "Con una función de if else, revisar si un número es primo o no."
   ]
  },
  {
   "cell_type": "code",
   "execution_count": 42,
   "metadata": {},
   "outputs": [
    {
     "name": "stdout",
     "output_type": "stream",
     "text": [
      "Ingrese un numero: 6\n",
      "Par\n"
     ]
    }
   ],
   "source": [
    "#Para saber si es par o impar\n",
    "num=int(input(\"Ingrese un numero: \"))\n",
    "if num%2==0:\n",
    "    print(\"Par\")\n",
    "else:\n",
    "    print(\"Impar\")"
   ]
  },
  {
   "cell_type": "code",
   "execution_count": 51,
   "metadata": {},
   "outputs": [
    {
     "name": "stdout",
     "output_type": "stream",
     "text": [
      "Ingrese un numero: 5\n",
      "Es primo\n"
     ]
    }
   ],
   "source": [
    "#Para saber si es primo\n",
    "num=int(input(\"Ingrese un numero: \"))\n",
    "cont = 0\n",
    "for i in range(1,num+1):\n",
    "    if (num%i)==0:\n",
    "        cont=cont+1\n",
    "\n",
    "if cont==2:\n",
    "    print (\"Es primo\")\n",
    "else:\n",
    "    print (\"No es primo\")"
   ]
  },
  {
   "cell_type": "markdown",
   "metadata": {},
   "source": [
    "## Ejercicio 5\n",
    "Utilizando diferentes clases en python, crea una calculadora con los operadores básicos de suma, resta, multiplicación, división, y exponente."
   ]
  },
  {
   "cell_type": "code",
   "execution_count": 55,
   "metadata": {},
   "outputs": [
    {
     "name": "stdout",
     "output_type": "stream",
     "text": [
      "Ingresa el primer numero: 5\n",
      "Ingresa el segundo numero: 3\n",
      "Suma:  8\n",
      "Resta:  2\n",
      "Multiplicacion:  15\n",
      "Division:  1.6666666666666667\n",
      "Exponencial:  148.4131591025766\n"
     ]
    }
   ],
   "source": [
    "import math as m\n",
    "\n",
    "def suma(n1, n2):\n",
    "    sum=n1+n2\n",
    "    return sum\n",
    "\n",
    "def resta(n1, n2):\n",
    "    res=n1-n2\n",
    "    return res\n",
    "\n",
    "def multiplicacion(n1, n2):\n",
    "    mult=n1*n2\n",
    "    return mult\n",
    "\n",
    "def division(n1, n2):\n",
    "    div=n1/n2\n",
    "    return div\n",
    "\n",
    "def exponente(n1):\n",
    "    exp=m.exp(n1)\n",
    "    return exp\n",
    "\n",
    "num1=int(input(\"Ingresa el primer numero: \"))\n",
    "num2=int(input(\"Ingresa el segundo numero: \"))\n",
    "print(\"Suma: \",+suma(num1,num2))\n",
    "print(\"Resta: \", +resta(num1,num2))\n",
    "print(\"Multiplicacion: \", +multiplicacion(num1,num2))\n",
    "print(\"Division: \", +division(num1,num2))\n",
    "print(\"Exponencial: \", +exponente(num1))"
   ]
  },
  {
   "cell_type": "markdown",
   "metadata": {},
   "source": [
    "## Tuplas"
   ]
  },
  {
   "cell_type": "markdown",
   "metadata": {},
   "source": [
    "#### Crear una variable flotante, integer, boleana y compleja e imprimir el tipo de variable que es."
   ]
  },
  {
   "cell_type": "code",
   "execution_count": 60,
   "metadata": {},
   "outputs": [
    {
     "name": "stdout",
     "output_type": "stream",
     "text": [
      "<class 'int'>\n",
      "<class 'float'>\n",
      "<class 'bool'>\n"
     ]
    }
   ],
   "source": [
    "#En las variables complejas no supe como ponerla de modo que no me apareciera error de sintaxis\n",
    "i=34\n",
    "f=1.43\n",
    "b=False\n",
    "print(type(i))\n",
    "print(type(f))\n",
    "print(type(b))"
   ]
  },
  {
   "cell_type": "markdown",
   "metadata": {},
   "source": [
    "#### Crear una tupla con valores enteros imprimir el primer y ultimo valor."
   ]
  },
  {
   "cell_type": "code",
   "execution_count": 63,
   "metadata": {},
   "outputs": [
    {
     "name": "stdout",
     "output_type": "stream",
     "text": [
      "Primer elemento:  S\n",
      "Ultimo elemento:  E\n"
     ]
    }
   ],
   "source": [
    "t1= (\"S\", \"E\", \"L\", \"E\", \"N\", \"E\")\n",
    "print(\"Primer elemento: \", t1[0])\n",
    "print(\"Ultimo elemento: \", t1[5])"
   ]
  },
  {
   "cell_type": "markdown",
   "metadata": {},
   "source": [
    "#### Añadir 3 valores de string a la tupla."
   ]
  },
  {
   "cell_type": "code",
   "execution_count": 74,
   "metadata": {},
   "outputs": [
    {
     "name": "stdout",
     "output_type": "stream",
     "text": [
      "('S', 'E', 'L', 'E', 'N', 'E', 'J', 'A', 'Z')\n"
     ]
    }
   ],
   "source": [
    "t1= (\"S\", \"E\", \"L\", \"E\", \"N\", \"E\")\n",
    "t1=list(t1)\n",
    "t1.append(\"J\")\n",
    "t1.append(\"A\")\n",
    "t1.append(\"Z\")\n",
    "t1=tuple(t1)\n",
    "print(t1)"
   ]
  },
  {
   "cell_type": "markdown",
   "metadata": {},
   "source": [
    "#### Verificar si una variable existe dentro de la tupla."
   ]
  },
  {
   "cell_type": "code",
   "execution_count": 75,
   "metadata": {},
   "outputs": [
    {
     "data": {
      "text/plain": [
       "True"
      ]
     },
     "execution_count": 75,
     "metadata": {},
     "output_type": "execute_result"
    }
   ],
   "source": [
    "t1= (\"S\", \"E\", \"L\", \"E\", \"N\", \"E\")\n",
    "\"N\" in t1"
   ]
  },
  {
   "cell_type": "markdown",
   "metadata": {},
   "source": [
    "## Listas"
   ]
  },
  {
   "cell_type": "markdown",
   "metadata": {},
   "source": [
    "#### Crear una lista con 40 elementos aleatorios enteros."
   ]
  },
  {
   "cell_type": "code",
   "execution_count": 81,
   "metadata": {},
   "outputs": [
    {
     "name": "stdout",
     "output_type": "stream",
     "text": [
      "[188, 173, 176, 191, 338, 273, 262, 224, 38, 128, 355, 105, 164, 286, 125, 150, 140, 343, 137, 345, 149, 45, 355, 144, 213, 248, 28, 295, 29, 153, 278, 290, 24, 67, 163, 252, 174, 237, 135, 357]\n"
     ]
    }
   ],
   "source": [
    "import random as r\n",
    "l1=[]\n",
    "for i in range (0,40):\n",
    "    l1.append(r.randint(1,400))\n",
    "\n",
    "print(l1)"
   ]
  },
  {
   "cell_type": "markdown",
   "metadata": {},
   "source": [
    "#### Con una funcion (def) crear dos listas nuevas a partir de la lista creada por numeros aleatorios, en la cual en una esten los elementos pares, y en la otra los elementos impares."
   ]
  },
  {
   "cell_type": "code",
   "execution_count": 99,
   "metadata": {},
   "outputs": [
    {
     "name": "stdout",
     "output_type": "stream",
     "text": [
      "Par:  [72, 68, 92, 88, 56, 46, 56, 2, 52, 4, 82, 80, 6, 34, 60, 58, 60, 14, 14, 86, 20, 74, 2]\n",
      "Impar:  [65, 7, 25, 21, 17, 93, 87, 47, 45, 55, 91, 45, 37, 47, 43, 47, 73]\n"
     ]
    }
   ],
   "source": [
    "import random as r\n",
    "l1=[]\n",
    "for i in range (0,40):\n",
    "    l1.append(r.randint(1,100))\n",
    "    \n",
    "div(l1)\n",
    "\n",
    "\n",
    "def div(lis):\n",
    "    par=[]\n",
    "    impar=[]\n",
    "    for i in lis:\n",
    "        if i%2==0:\n",
    "            par.append(i)\n",
    "        else:\n",
    "            impar.append(i)\n",
    "    \n",
    "    print(\"Par: \", par)\n",
    "    print(\"Impar: \", impar)\n",
    "            \n"
   ]
  },
  {
   "cell_type": "markdown",
   "metadata": {},
   "source": [
    "#### Crear dos variables con la longitud de ambas listas nuevas e imprimir las variables."
   ]
  },
  {
   "cell_type": "code",
   "execution_count": 101,
   "metadata": {},
   "outputs": [
    {
     "name": "stdout",
     "output_type": "stream",
     "text": [
      "La lista par tiene una extension de:  18\n",
      "La lista impar tiene una extension de:  22\n",
      "Par:  [100, 6, 66, 52, 82, 52, 100, 84, 2, 94, 50, 24, 32, 28, 78, 98, 62, 64]\n",
      "Impar:  [61, 37, 39, 51, 55, 19, 19, 51, 7, 63, 55, 51, 55, 55, 67, 67, 83, 97, 53, 65, 95, 59]\n"
     ]
    }
   ],
   "source": [
    "import random as r\n",
    "l1=[]\n",
    "for i in range (0,40):\n",
    "    l1.append(r.randint(1,100))\n",
    "    \n",
    "div(l1)\n",
    "\n",
    "\n",
    "def div(lis):\n",
    "    par=[]\n",
    "    impar=[]\n",
    "    for i in lis:\n",
    "        if i%2==0:\n",
    "            par.append(i)\n",
    "        else:\n",
    "            impar.append(i)\n",
    "    \n",
    "    varp=len(par)\n",
    "    vari=len(impar)\n",
    "    print(\"La lista par tiene una extension de: \", varp)\n",
    "    print(\"La lista impar tiene una extension de: \", vari)\n",
    "    print(\"Par: \", par)\n",
    "    print(\"Impar: \", impar)\n",
    "            \n"
   ]
  },
  {
   "cell_type": "markdown",
   "metadata": {},
   "source": [
    "#### Ordenar los elementos de la lista par de mayor a menor, y los de la lista impar de menor a mayor."
   ]
  },
  {
   "cell_type": "code",
   "execution_count": 121,
   "metadata": {},
   "outputs": [
    {
     "name": "stdout",
     "output_type": "stream",
     "text": [
      "Impar:  [7, 19, 19, 37, 39, 51, 51, 51, 53, 55, 55, 55, 55, 59, 61, 63, 65, 67, 67, 83, 95, 97]\n",
      "Par:  [100, 100, 98, 94, 84, 82, 78, 66, 64, 62, 52, 52, 50, 32, 28, 24, 6, 2]\n"
     ]
    }
   ],
   "source": [
    "par=[100, 6, 66, 52, 82, 52, 100, 84, 2, 94, 50, 24, 32, 28, 78, 98, 62, 64]\n",
    "impar=[61, 37, 39, 51, 55, 19, 19, 51, 7, 63, 55, 51, 55, 55, 67, 67, 83, 97, 53, 65, 95, 59]\n",
    "\n",
    "impar1=sorted(impar)\n",
    "print(\"Impar: \",impar1)\n",
    "par1=sorted(par, reverse=True)\n",
    "print(\"Par: \", par1)\n",
    "\n",
    "#https://j2logo.com/python/ordenar-una-lista-en-python/"
   ]
  },
  {
   "cell_type": "markdown",
   "metadata": {},
   "source": [
    "#### Utilizar al menos cuatro de las funciones de listas en python en la lista original de 40 elementos"
   ]
  },
  {
   "cell_type": "code",
   "execution_count": 134,
   "metadata": {},
   "outputs": [
    {
     "name": "stdout",
     "output_type": "stream",
     "text": [
      "[26, 9, 95, 90, 48, 98, 20, 61, 10, 85, 91, 34, 12, 44, 98, 98, 66, 89, 49, 43, 35, 71, 76, 100, 99, 21, 17, 16, 45, 56, 14, 6, 75, 46, 48, 19, 5, 82, 77, 95]\n",
      "\n",
      "Lista nueva:  [26, 9, 95, 90, 48, 98, 20, 61, 10, 85, 91, 34, 12, 44, 98, 98, 66, 89, 49, 43, 35, 71, 76, 100, 99, 21, 17, 16, 45, 56, 14, 6, 75, 46, 48, 19, 5, 82, 77, 95, 150, 200, 300, 400]\n",
      "\n",
      "Cantidad de elementos:  44\n",
      "\n",
      "Nueva lista:  [26, 9, 95, 90, 48, 98, 20, 61, 10, 85, 91, 34, 12, 44, 98, 98, 66, 89, 49, 43, 35, 71, 76, 100, 99, 21, 17, 16, 45, 56, 14, 6, 75, 46, 48, 19, 5, 82, 77, 95, 150, 200, 300, 400, 26, 9, 95, 90, 48, 98, 20, 61, 10, 85, 91, 34, 12, 44, 98, 98, 66, 89, 49, 43, 35, 71, 76, 100, 99, 21, 17, 16, 45, 56, 14, 6, 75, 46, 48, 19, 5, 82, 77, 95, 150, 200, 300, 400]\n",
      "\n",
      "Lista vacia:  None\n"
     ]
    }
   ],
   "source": [
    "import random as r\n",
    "l1=[]\n",
    "for i in range (0,40):\n",
    "    l1.append(r.randint(1,100))\n",
    "ldef=l1\n",
    "print (ldef)\n",
    "\n",
    "#Agregar elementos\n",
    "ldef.extend([150, 200, 300, 400])\n",
    "print(\"\")\n",
    "print(\"Lista nueva: \", ldef)\n",
    "\n",
    "#Cantidad de elementos\n",
    "print(\"\")\n",
    "print(\"Cantidad de elementos: \", len(ldef))\n",
    "\n",
    "#Multiplica la cantidad de elementos por dos\n",
    "print(\"\")\n",
    "print(\"Nueva lista: \", ldef*2)\n",
    "\n",
    "#Borra los elementos de la lista\n",
    "print(\"\")\n",
    "print(\"Lista vacia: \", ldef.clear())"
   ]
  },
  {
   "cell_type": "markdown",
   "metadata": {},
   "source": [
    "## Diccionarios"
   ]
  },
  {
   "cell_type": "markdown",
   "metadata": {},
   "source": [
    "#### Crear un diccionario de 6 personas que conozcas con su primer nombre y su edad."
   ]
  },
  {
   "cell_type": "code",
   "execution_count": 136,
   "metadata": {},
   "outputs": [
    {
     "name": "stdout",
     "output_type": "stream",
     "text": [
      "{'Melissa': 18, 'Maria': 49, 'Victor': 25, 'Carlos': 80, 'Juany': 74, 'Syndel': 23}\n"
     ]
    }
   ],
   "source": [
    "d1={\"Melissa\":18, \"Maria\":49, \"Victor\":25, \"Carlos\":80, \"Juany\": 74, \"Syndel\":23}\n",
    "print(d1)"
   ]
  },
  {
   "cell_type": "markdown",
   "metadata": {},
   "source": [
    "#### Crear una lista con los valores de la edad y reacomodar la lista de menor a mayor valor."
   ]
  },
  {
   "cell_type": "code",
   "execution_count": 139,
   "metadata": {},
   "outputs": [
    {
     "name": "stdout",
     "output_type": "stream",
     "text": [
      "Edades:  dict_values([18, 49, 25, 80, 74, 23])\n",
      "\n",
      "Edades ordenadas:  [18, 23, 25, 49, 74, 80]\n"
     ]
    }
   ],
   "source": [
    "d1={\"Melissa\":18, \"Maria\":49, \"Victor\":25, \"Carlos\":80, \"Juany\": 74, \"Syndel\":23}\n",
    "l1=d1.values()\n",
    "print(\"Edades: \",l1)\n",
    "print(\"\")\n",
    "print(\"Edades ordenadas: \", sorted(l1))"
   ]
  },
  {
   "cell_type": "markdown",
   "metadata": {},
   "source": [
    "#### Usando el diccionario y un loop, imprimir solo los nombres."
   ]
  },
  {
   "cell_type": "code",
   "execution_count": 148,
   "metadata": {},
   "outputs": [
    {
     "name": "stdout",
     "output_type": "stream",
     "text": [
      "Melissa\n",
      "Maria\n",
      "Victor\n",
      "Carlos\n",
      "Juany\n",
      "Syndel\n"
     ]
    }
   ],
   "source": [
    "d1={\"Melissa\":18, \"Maria\":49, \"Victor\":25, \"Carlos\":80, \"Juany\": 74, \"Syndel\":23}\n",
    "\n",
    "l1=list(d1.keys())\n",
    "for i in l1:\n",
    "    print(i)"
   ]
  },
  {
   "cell_type": "markdown",
   "metadata": {},
   "source": [
    "#### Añadir dos personas nuevas a tu diccionario, incluyendo edad."
   ]
  },
  {
   "cell_type": "code",
   "execution_count": 151,
   "metadata": {},
   "outputs": [
    {
     "name": "stdout",
     "output_type": "stream",
     "text": [
      "{'Melissa': 18, 'Maria': 49, 'Victor': 25, 'Carlos': 80, 'Juany': 74, 'Syndel': 23, 'Selene': 23, 'William': 25}\n"
     ]
    }
   ],
   "source": [
    "d1={\"Melissa\":18, \"Maria\":49, \"Victor\":25, \"Carlos\":80, \"Juany\": 74, \"Syndel\":23}\n",
    "d1[\"Selene\"]=23\n",
    "d1[\"William\"]=25\n",
    "print (d1)"
   ]
  },
  {
   "cell_type": "markdown",
   "metadata": {},
   "source": [
    "## Sets"
   ]
  },
  {
   "cell_type": "markdown",
   "metadata": {},
   "source": [
    "#### Crea un set con 100 numeros aleatorios enteros del 1 al 25."
   ]
  },
  {
   "cell_type": "code",
   "execution_count": 168,
   "metadata": {},
   "outputs": [
    {
     "name": "stdout",
     "output_type": "stream",
     "text": [
      "{1, 2, 3, 4, 5, 6, 7, 8, 9, 10, 11, 12, 13, 14, 15, 16, 17, 18, 19, 20, 21, 22, 23, 24, 25}\n"
     ]
    }
   ],
   "source": [
    "#https://recursospython.com/guias-y-manuales/conjuntos-sets/\n",
    "\n",
    "import random as r\n",
    "s=set()\n",
    "s1=set()\n",
    "for i in range(0,100):\n",
    "    s.add(r.randint(1,25))\n",
    "    \n",
    "print(s)\n",
    "\n"
   ]
  },
  {
   "cell_type": "markdown",
   "metadata": {},
   "source": [
    "#### Comprueba la longitud de tu set."
   ]
  },
  {
   "cell_type": "code",
   "execution_count": 169,
   "metadata": {},
   "outputs": [
    {
     "name": "stdout",
     "output_type": "stream",
     "text": [
      "100\n"
     ]
    }
   ],
   "source": [
    "#Lo hice con random porque con randint solo arrojaba 25 numeros como en el ejemplo anterior\n",
    "import random as r\n",
    "s=set()\n",
    "s1=set()\n",
    "for i in range(0,100):\n",
    "    s.add(r.random())\n",
    "    \n",
    "print(len(s))"
   ]
  },
  {
   "cell_type": "markdown",
   "metadata": {},
   "source": [
    "#### Crea una lista de 5 numeros aleatorios del 1 al 10 y comprueba si cada valor aparece en el set inicial."
   ]
  },
  {
   "cell_type": "code",
   "execution_count": 173,
   "metadata": {},
   "outputs": [
    {
     "name": "stdout",
     "output_type": "stream",
     "text": [
      "[6, 2, 6, 5, 6]\n"
     ]
    },
    {
     "data": {
      "text/plain": [
       "True"
      ]
     },
     "execution_count": 173,
     "metadata": {},
     "output_type": "execute_result"
    }
   ],
   "source": [
    "import random as r\n",
    "l1=[]\n",
    "s1={1, 2, 3, 4, 5, 6, 7, 8, 9, 10, 11, 12, 13, 14, 15, 16, 17, 18, 19, 20, 21, 22, 23, 24, 25}\n",
    "for i in range (0,5):\n",
    "    l1.append(r.randint(1,10))\n",
    "ldef=l1\n",
    "print (ldef)\n",
    "\n",
    "l1[0] in s1\n",
    "l1[1] in s1\n",
    "l1[2] in s1\n",
    "l1[3] in s1\n",
    "l1[4] in s1"
   ]
  },
  {
   "cell_type": "code",
   "execution_count": null,
   "metadata": {},
   "outputs": [],
   "source": []
  }
 ],
 "metadata": {
  "kernelspec": {
   "display_name": "Python 3",
   "language": "python",
   "name": "python3"
  },
  "language_info": {
   "codemirror_mode": {
    "name": "ipython",
    "version": 3
   },
   "file_extension": ".py",
   "mimetype": "text/x-python",
   "name": "python",
   "nbconvert_exporter": "python",
   "pygments_lexer": "ipython3",
   "version": "3.8.3"
  }
 },
 "nbformat": 4,
 "nbformat_minor": 4
}
